{
 "cells": [
  {
   "cell_type": "code",
   "execution_count": 1,
   "metadata": {},
   "outputs": [],
   "source": [
    "import pandas as pd\n",
    "import pandas as pd\n",
    "from sklearn.ensemble import RandomForestRegressor\n",
    "import pickle"
   ]
  },
  {
   "cell_type": "code",
   "execution_count": 2,
   "metadata": {},
   "outputs": [],
   "source": [
    "# Read dataset from csv file.\n",
    "x = pd.read_csv('dataset.csv')"
   ]
  },
  {
   "cell_type": "code",
   "execution_count": 3,
   "metadata": {},
   "outputs": [
    {
     "data": {
      "text/html": "<div>\n<style scoped>\n    .dataframe tbody tr th:only-of-type {\n        vertical-align: middle;\n    }\n\n    .dataframe tbody tr th {\n        vertical-align: top;\n    }\n\n    .dataframe thead th {\n        text-align: right;\n    }\n</style>\n<table border=\"1\" class=\"dataframe\">\n  <thead>\n    <tr style=\"text-align: right;\">\n      <th></th>\n      <th>Project name</th>\n      <th>Sector</th>\n      <th>Budget</th>\n      <th>Skilled workers</th>\n      <th>Unskilled workers</th>\n      <th>Salary for skilled workers</th>\n      <th>Salary for unskilled workers</th>\n      <th>Skilled workers age low</th>\n      <th>Skilled Workers age high</th>\n      <th>Unskilled workers age low</th>\n      <th>Unskilled workers age high</th>\n      <th>Time required</th>\n      <th>place of project</th>\n    </tr>\n  </thead>\n  <tbody>\n    <tr>\n      <td>0</td>\n      <td>polavaram</td>\n      <td>rural</td>\n      <td>9000</td>\n      <td>1500</td>\n      <td>3000</td>\n      <td>45000</td>\n      <td>15000</td>\n      <td>25</td>\n      <td>55</td>\n      <td>25</td>\n      <td>35</td>\n      <td>5</td>\n      <td>andhra pradesh</td>\n    </tr>\n    <tr>\n      <td>1</td>\n      <td>kaleswaram dam</td>\n      <td>rural</td>\n      <td>5000</td>\n      <td>800</td>\n      <td>1800</td>\n      <td>35000</td>\n      <td>15000</td>\n      <td>25</td>\n      <td>55</td>\n      <td>25</td>\n      <td>35</td>\n      <td>3</td>\n      <td>telangana</td>\n    </tr>\n    <tr>\n      <td>2</td>\n      <td>vizag metro</td>\n      <td>urban</td>\n      <td>1000</td>\n      <td>500</td>\n      <td>1000</td>\n      <td>45000</td>\n      <td>15000</td>\n      <td>25</td>\n      <td>55</td>\n      <td>25</td>\n      <td>35</td>\n      <td>3</td>\n      <td>andhra pradesh</td>\n    </tr>\n    <tr>\n      <td>3</td>\n      <td>solar park</td>\n      <td>urban</td>\n      <td>800</td>\n      <td>100</td>\n      <td>500</td>\n      <td>45000</td>\n      <td>15000</td>\n      <td>25</td>\n      <td>55</td>\n      <td>25</td>\n      <td>35</td>\n      <td>1</td>\n      <td>gujarat</td>\n    </tr>\n    <tr>\n      <td>4</td>\n      <td>gift city gujarath</td>\n      <td>urban</td>\n      <td>600000</td>\n      <td>15000</td>\n      <td>3000</td>\n      <td>50000</td>\n      <td>15000</td>\n      <td>25</td>\n      <td>55</td>\n      <td>25</td>\n      <td>35</td>\n      <td>4</td>\n      <td>gujarat</td>\n    </tr>\n  </tbody>\n</table>\n</div>",
      "text/plain": "         Project name  Sector  Budget  Skilled workers  Unskilled workers  \\\n0           polavaram  rural     9000             1500               3000   \n1      kaleswaram dam  rural     5000              800               1800   \n2         vizag metro   urban    1000              500               1000   \n3          solar park   urban     800              100                500   \n4  gift city gujarath   urban  600000            15000               3000   \n\n   Salary for skilled workers  Salary for unskilled workers  \\\n0                       45000                         15000   \n1                       35000                         15000   \n2                       45000                         15000   \n3                       45000                         15000   \n4                       50000                         15000   \n\n   Skilled workers age low  Skilled Workers age high  \\\n0                       25                        55   \n1                       25                        55   \n2                       25                        55   \n3                       25                        55   \n4                       25                        55   \n\n   Unskilled workers age low  Unskilled workers age high  Time required  \\\n0                         25                          35              5   \n1                         25                          35              3   \n2                         25                          35              3   \n3                         25                          35              1   \n4                         25                          35              4   \n\n  place of project  \n0   andhra pradesh  \n1        telangana  \n2   andhra pradesh  \n3          gujarat  \n4          gujarat  "
     },
     "execution_count": 3,
     "metadata": {},
     "output_type": "execute_result"
    }
   ],
   "source": [
    "x.head()"
   ]
  },
  {
   "cell_type": "code",
   "execution_count": 4,
   "metadata": {},
   "outputs": [],
   "source": [
    "# Fine-tuning the sector.\n",
    "z = x['Sector'].drop_duplicates()\n",
    "for i, j in enumerate(z):\n",
    "    x['Sector'] = x['Sector'].replace(j, i)"
   ]
  },
  {
   "cell_type": "code",
   "execution_count": 5,
   "metadata": {},
   "outputs": [
    {
     "data": {
      "text/html": "<div>\n<style scoped>\n    .dataframe tbody tr th:only-of-type {\n        vertical-align: middle;\n    }\n\n    .dataframe tbody tr th {\n        vertical-align: top;\n    }\n\n    .dataframe thead th {\n        text-align: right;\n    }\n</style>\n<table border=\"1\" class=\"dataframe\">\n  <thead>\n    <tr style=\"text-align: right;\">\n      <th></th>\n      <th>Project name</th>\n      <th>Sector</th>\n      <th>Budget</th>\n      <th>Skilled workers</th>\n      <th>Unskilled workers</th>\n      <th>Salary for skilled workers</th>\n      <th>Salary for unskilled workers</th>\n      <th>Skilled workers age low</th>\n      <th>Skilled Workers age high</th>\n      <th>Unskilled workers age low</th>\n      <th>Unskilled workers age high</th>\n      <th>Time required</th>\n      <th>place of project</th>\n    </tr>\n  </thead>\n  <tbody>\n    <tr>\n      <td>0</td>\n      <td>polavaram</td>\n      <td>0</td>\n      <td>9000</td>\n      <td>1500</td>\n      <td>3000</td>\n      <td>45000</td>\n      <td>15000</td>\n      <td>25</td>\n      <td>55</td>\n      <td>25</td>\n      <td>35</td>\n      <td>5</td>\n      <td>andhra pradesh</td>\n    </tr>\n    <tr>\n      <td>1</td>\n      <td>kaleswaram dam</td>\n      <td>0</td>\n      <td>5000</td>\n      <td>800</td>\n      <td>1800</td>\n      <td>35000</td>\n      <td>15000</td>\n      <td>25</td>\n      <td>55</td>\n      <td>25</td>\n      <td>35</td>\n      <td>3</td>\n      <td>telangana</td>\n    </tr>\n    <tr>\n      <td>2</td>\n      <td>vizag metro</td>\n      <td>1</td>\n      <td>1000</td>\n      <td>500</td>\n      <td>1000</td>\n      <td>45000</td>\n      <td>15000</td>\n      <td>25</td>\n      <td>55</td>\n      <td>25</td>\n      <td>35</td>\n      <td>3</td>\n      <td>andhra pradesh</td>\n    </tr>\n    <tr>\n      <td>3</td>\n      <td>solar park</td>\n      <td>1</td>\n      <td>800</td>\n      <td>100</td>\n      <td>500</td>\n      <td>45000</td>\n      <td>15000</td>\n      <td>25</td>\n      <td>55</td>\n      <td>25</td>\n      <td>35</td>\n      <td>1</td>\n      <td>gujarat</td>\n    </tr>\n    <tr>\n      <td>4</td>\n      <td>gift city gujarath</td>\n      <td>1</td>\n      <td>600000</td>\n      <td>15000</td>\n      <td>3000</td>\n      <td>50000</td>\n      <td>15000</td>\n      <td>25</td>\n      <td>55</td>\n      <td>25</td>\n      <td>35</td>\n      <td>4</td>\n      <td>gujarat</td>\n    </tr>\n  </tbody>\n</table>\n</div>",
      "text/plain": "         Project name  Sector  Budget  Skilled workers  Unskilled workers  \\\n0           polavaram       0    9000             1500               3000   \n1      kaleswaram dam       0    5000              800               1800   \n2         vizag metro       1    1000              500               1000   \n3          solar park       1     800              100                500   \n4  gift city gujarath       1  600000            15000               3000   \n\n   Salary for skilled workers  Salary for unskilled workers  \\\n0                       45000                         15000   \n1                       35000                         15000   \n2                       45000                         15000   \n3                       45000                         15000   \n4                       50000                         15000   \n\n   Skilled workers age low  Skilled Workers age high  \\\n0                       25                        55   \n1                       25                        55   \n2                       25                        55   \n3                       25                        55   \n4                       25                        55   \n\n   Unskilled workers age low  Unskilled workers age high  Time required  \\\n0                         25                          35              5   \n1                         25                          35              3   \n2                         25                          35              3   \n3                         25                          35              1   \n4                         25                          35              4   \n\n  place of project  \n0   andhra pradesh  \n1        telangana  \n2   andhra pradesh  \n3          gujarat  \n4          gujarat  "
     },
     "execution_count": 5,
     "metadata": {},
     "output_type": "execute_result"
    }
   ],
   "source": [
    "x.head()"
   ]
  },
  {
   "cell_type": "code",
   "execution_count": 6,
   "metadata": {},
   "outputs": [],
   "source": [
    "# Fine-tuning the location of project.\n",
    "z = x['place of project'].drop_duplicates()\n",
    "for i, j in enumerate(z):\n",
    "    x['place of project'] = x['place of project'].replace(j,i)"
   ]
  },
  {
   "cell_type": "code",
   "execution_count": 7,
   "metadata": {},
   "outputs": [
    {
     "data": {
      "text/html": "<div>\n<style scoped>\n    .dataframe tbody tr th:only-of-type {\n        vertical-align: middle;\n    }\n\n    .dataframe tbody tr th {\n        vertical-align: top;\n    }\n\n    .dataframe thead th {\n        text-align: right;\n    }\n</style>\n<table border=\"1\" class=\"dataframe\">\n  <thead>\n    <tr style=\"text-align: right;\">\n      <th></th>\n      <th>Project name</th>\n      <th>Sector</th>\n      <th>Budget</th>\n      <th>Skilled workers</th>\n      <th>Unskilled workers</th>\n      <th>Salary for skilled workers</th>\n      <th>Salary for unskilled workers</th>\n      <th>Skilled workers age low</th>\n      <th>Skilled Workers age high</th>\n      <th>Unskilled workers age low</th>\n      <th>Unskilled workers age high</th>\n      <th>Time required</th>\n      <th>place of project</th>\n    </tr>\n  </thead>\n  <tbody>\n    <tr>\n      <td>0</td>\n      <td>polavaram</td>\n      <td>0</td>\n      <td>9000</td>\n      <td>1500</td>\n      <td>3000</td>\n      <td>45000</td>\n      <td>15000</td>\n      <td>25</td>\n      <td>55</td>\n      <td>25</td>\n      <td>35</td>\n      <td>5</td>\n      <td>0</td>\n    </tr>\n    <tr>\n      <td>1</td>\n      <td>kaleswaram dam</td>\n      <td>0</td>\n      <td>5000</td>\n      <td>800</td>\n      <td>1800</td>\n      <td>35000</td>\n      <td>15000</td>\n      <td>25</td>\n      <td>55</td>\n      <td>25</td>\n      <td>35</td>\n      <td>3</td>\n      <td>1</td>\n    </tr>\n    <tr>\n      <td>2</td>\n      <td>vizag metro</td>\n      <td>1</td>\n      <td>1000</td>\n      <td>500</td>\n      <td>1000</td>\n      <td>45000</td>\n      <td>15000</td>\n      <td>25</td>\n      <td>55</td>\n      <td>25</td>\n      <td>35</td>\n      <td>3</td>\n      <td>0</td>\n    </tr>\n    <tr>\n      <td>3</td>\n      <td>solar park</td>\n      <td>1</td>\n      <td>800</td>\n      <td>100</td>\n      <td>500</td>\n      <td>45000</td>\n      <td>15000</td>\n      <td>25</td>\n      <td>55</td>\n      <td>25</td>\n      <td>35</td>\n      <td>1</td>\n      <td>2</td>\n    </tr>\n    <tr>\n      <td>4</td>\n      <td>gift city gujarath</td>\n      <td>1</td>\n      <td>600000</td>\n      <td>15000</td>\n      <td>3000</td>\n      <td>50000</td>\n      <td>15000</td>\n      <td>25</td>\n      <td>55</td>\n      <td>25</td>\n      <td>35</td>\n      <td>4</td>\n      <td>2</td>\n    </tr>\n  </tbody>\n</table>\n</div>",
      "text/plain": "         Project name  Sector  Budget  Skilled workers  Unskilled workers  \\\n0           polavaram       0    9000             1500               3000   \n1      kaleswaram dam       0    5000              800               1800   \n2         vizag metro       1    1000              500               1000   \n3          solar park       1     800              100                500   \n4  gift city gujarath       1  600000            15000               3000   \n\n   Salary for skilled workers  Salary for unskilled workers  \\\n0                       45000                         15000   \n1                       35000                         15000   \n2                       45000                         15000   \n3                       45000                         15000   \n4                       50000                         15000   \n\n   Skilled workers age low  Skilled Workers age high  \\\n0                       25                        55   \n1                       25                        55   \n2                       25                        55   \n3                       25                        55   \n4                       25                        55   \n\n   Unskilled workers age low  Unskilled workers age high  Time required  \\\n0                         25                          35              5   \n1                         25                          35              3   \n2                         25                          35              3   \n3                         25                          35              1   \n4                         25                          35              4   \n\n   place of project  \n0                 0  \n1                 1  \n2                 0  \n3                 2  \n4                 2  "
     },
     "execution_count": 7,
     "metadata": {},
     "output_type": "execute_result"
    }
   ],
   "source": [
    "x.head()"
   ]
  },
  {
   "cell_type": "code",
   "execution_count": 8,
   "metadata": {},
   "outputs": [],
   "source": [
    "feature_df = x[['Sector', 'Budget', 'Time required']]\n",
    "target1 = x['Skilled workers']\n",
    "target2 = x['Unskilled workers']"
   ]
  },
  {
   "cell_type": "code",
   "execution_count": 12,
   "metadata": {},
   "outputs": [
    {
     "data": {
      "text/plain": "RandomForestRegressor(bootstrap=True, criterion='mse', max_depth=None,\n                      max_features='auto', max_leaf_nodes=None,\n                      min_impurity_decrease=0.0, min_impurity_split=None,\n                      min_samples_leaf=1, min_samples_split=2,\n                      min_weight_fraction_leaf=0.0, n_estimators=100,\n                      n_jobs=None, oob_score=False, random_state=None,\n                      verbose=0, warm_start=False)"
     },
     "execution_count": 12,
     "metadata": {},
     "output_type": "execute_result"
    }
   ],
   "source": [
    "reg1 = RandomForestRegressor(n_estimators=100)\n",
    "reg1.fit(feature_df, target1)"
   ]
  },
  {
   "cell_type": "code",
   "execution_count": 14,
   "metadata": {},
   "outputs": [
    {
     "data": {
      "text/plain": "0.8435731750002389"
     },
     "execution_count": 14,
     "metadata": {},
     "output_type": "execute_result"
    }
   ],
   "source": [
    "reg1.score(feature_df, target1)"
   ]
  },
  {
   "cell_type": "code",
   "execution_count": 15,
   "metadata": {},
   "outputs": [
    {
     "data": {
      "text/plain": "RandomForestRegressor(bootstrap=True, criterion='mse', max_depth=None,\n                      max_features='auto', max_leaf_nodes=None,\n                      min_impurity_decrease=0.0, min_impurity_split=None,\n                      min_samples_leaf=1, min_samples_split=2,\n                      min_weight_fraction_leaf=0.0, n_estimators=100,\n                      n_jobs=None, oob_score=False, random_state=None,\n                      verbose=0, warm_start=False)"
     },
     "execution_count": 15,
     "metadata": {},
     "output_type": "execute_result"
    }
   ],
   "source": [
    "reg2 = RandomForestRegressor(n_estimators=100)\n",
    "reg2.fit(feature_df, target2)"
   ]
  },
  {
   "cell_type": "code",
   "execution_count": 16,
   "metadata": {},
   "outputs": [
    {
     "data": {
      "text/plain": "0.8611896735005454"
     },
     "execution_count": 16,
     "metadata": {},
     "output_type": "execute_result"
    }
   ],
   "source": [
    "reg2.score(feature_df, target2)"
   ]
  },
  {
   "cell_type": "code",
   "execution_count": 11,
   "metadata": {},
   "outputs": [],
   "source": [
    "# Saving the trained Regressor\n",
    "\n",
    "with open('Skilled_Workforce_Predictor.pickle','wb') as f :\n",
    "    pickle.dump(reg1, f)\n",
    "\n",
    "with open('Unskilled_Workforce_Predictor.pickle','wb') as f :\n",
    "    pickle.dump(reg2, f)"
   ]
  },
  {
   "cell_type": "code",
   "execution_count": 12,
   "metadata": {},
   "outputs": [],
   "source": [
    "# Loading the saved Regressor\n",
    "pickle_skilled = open('Skilled_Workforce_Predictor.pickle','rb')\n",
    "reg1 = pickle.load(pickle_skilled)\n",
    "\n",
    "pickle_unskilled = open('Unskilled_Workforce_Predictor.pickle','rb')\n",
    "reg2 = pickle.load(pickle_unskilled)"
   ]
  },
  {
   "cell_type": "code",
   "execution_count": 13,
   "metadata": {},
   "outputs": [
    {
     "name": "stdin",
     "output_type": "stream",
     "text": [
      "Enter 0 for rural areas and 1 for urban areas :  1\n",
      "Enter budget amount(in Crores) :  111\n",
      "Enter the time within which the project should be completed :  1\n"
     ]
    }
   ],
   "source": [
    "test_sector = input(\"Enter 0 for rural areas and 1 for urban areas : \")\n",
    "test_budget = input(\"Enter budget amount(in Crores) : \")\n",
    "test_duration = input(\"Enter the time within which the project should be completed : \")"
   ]
  },
  {
   "cell_type": "code",
   "execution_count": 14,
   "metadata": {},
   "outputs": [
    {
     "name": "stdout",
     "output_type": "stream",
     "text": [
      "Number of Skilled workers needed are :  100\n",
      "Number of Unskilled workers needed are :  1013\n"
     ]
    }
   ],
   "source": [
    "Feature = [test_sector, test_budget, test_duration]\n",
    "print(\"Number of Skilled workers needed are : \", int(reg1.predict([Feature])))\n",
    "print(\"Number of Unskilled workers needed are : \", int(reg2.predict([Feature])))"
   ]
  },
  {
   "cell_type": "code",
   "execution_count": null,
   "metadata": {},
   "outputs": [],
   "source": []
  }
 ],
 "metadata": {
  "kernelspec": {
   "display_name": "Python 3",
   "language": "python",
   "name": "python3"
  },
  "language_info": {
   "codemirror_mode": {
    "name": "ipython",
    "version": 3
   },
   "file_extension": ".py",
   "mimetype": "text/x-python",
   "name": "python",
   "nbconvert_exporter": "python",
   "pygments_lexer": "ipython3",
   "version": "3.7.4"
  }
 },
 "nbformat": 4,
 "nbformat_minor": 4
}