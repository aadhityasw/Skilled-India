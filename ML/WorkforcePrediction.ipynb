{
 "cells": [
  {
   "cell_type": "code",
   "execution_count": 1,
   "metadata": {},
   "outputs": [],
   "source": [
    "import pandas as pd\n",
    "import pandas as pd\n",
    "from sklearn.ensemble import RandomForestRegressor\n",
    "import pickle"
   ]
  },
  {
   "cell_type": "code",
   "execution_count": null,
   "metadata": {},
   "outputs": [],
   "source": [
    "# Read dataset from csv file.\n",
    "x = pd.read_csv('dataset.csv')"
   ]
  },
  {
   "cell_type": "code",
   "execution_count": null,
   "metadata": {},
   "outputs": [],
   "source": [
    "x.head()"
   ]
  },
  {
   "cell_type": "code",
   "execution_count": null,
   "metadata": {},
   "outputs": [],
   "source": [
    "# Fine-tuning the sector.\n",
    "z = x['Sector'].drop_duplicates()\n",
    "for i, j in enumerate(z):\n",
    "    x['Sector'] = x['Sector'].replace(j, i)"
   ]
  },
  {
   "cell_type": "code",
   "execution_count": null,
   "metadata": {},
   "outputs": [],
   "source": [
    "x.head()"
   ]
  },
  {
   "cell_type": "code",
   "execution_count": null,
   "metadata": {},
   "outputs": [],
   "source": [
    "# Fine-tuning the location of project.\n",
    "z = x['place of project'].drop_duplicates()\n",
    "for i, j in enumerate(z):\n",
    "    x['place of project'] = x['place of project'].replace(j,i)"
   ]
  },
  {
   "cell_type": "code",
   "execution_count": null,
   "metadata": {},
   "outputs": [],
   "source": [
    "x.head()"
   ]
  },
  {
   "cell_type": "code",
   "execution_count": null,
   "metadata": {},
   "outputs": [],
   "source": [
    "feature_df = x[['Sector', 'Budget', 'Time required']]\n",
    "target1 = x['Skilled workers']\n",
    "target2 = x['Unskilled workers']"
   ]
  },
  {
   "cell_type": "code",
   "execution_count": null,
   "metadata": {},
   "outputs": [],
   "source": [
    "reg1 = RandomForestRegressor(n_estimators=100)\n",
    "reg1.fit(feature_df, target1)"
   ]
  },
  {
   "cell_type": "code",
   "execution_count": null,
   "metadata": {},
   "outputs": [],
   "source": [
    "reg2 = RandomForestRegressor(n_estimators=100)\n",
    "reg2.fit(feature_df, target2)"
   ]
  },
  {
   "cell_type": "code",
   "execution_count": null,
   "metadata": {},
   "outputs": [],
   "source": [
    "# Saving the trained Regressor\n",
    "\n",
    "with open('Skilled_Workforce_Predictor.pickle','wb') as f :\n",
    "    pickle.dump(reg1, f)\n",
    "\n",
    "with open('Unskilled_Workforce_Predictor.pickle','wb') as f :\n",
    "    pickle.dump(reg2, f)"
   ]
  },
  {
   "cell_type": "code",
   "execution_count": 5,
   "metadata": {},
   "outputs": [],
   "source": [
    "# Loading the saved Regressor\n",
    "pickle_skilled = open('Skilled_Workforce_Predictor.pickle','rb')\n",
    "reg1 = pickle.load(pickle_skilled)\n",
    "\n",
    "pickle_unskilled = open('Unskilled_Workforce_Predictor.pickle','rb')\n",
    "reg2 = pickle.load(pickle_unskilled)"
   ]
  },
  {
   "cell_type": "code",
   "execution_count": 6,
   "metadata": {},
   "outputs": [
    {
     "name": "stdin",
     "output_type": "stream",
     "text": [
      "Enter 0 for rural areas and 1 for urban areas :  1\n",
      "Enter budget amount(in Crores) :  1200\n",
      "Enter the time within which the project should be completed :  2\n"
     ]
    }
   ],
   "source": [
    "test_sector = input(\"Enter 0 for rural areas and 1 for urban areas : \")\n",
    "test_budget = input(\"Enter budget amount(in Crores) : \")\n",
    "test_duration = input(\"Enter the time within which the project should be completed : \")"
   ]
  },
  {
   "cell_type": "code",
   "execution_count": 7,
   "metadata": {},
   "outputs": [
    {
     "name": "stdout",
     "output_type": "stream",
     "text": [
      "Number of Skilled workers needed are :  82\n",
      "Number of Unskilled workers needed are :  666\n"
     ]
    }
   ],
   "source": [
    "Feature = [test_sector, test_budget, test_duration]\n",
    "print(\"Number of Skilled workers needed are : \", int(reg1.predict([Feature])))\n",
    "print(\"Number of Unskilled workers needed are : \", int(reg2.predict([Feature])))"
   ]
  },
  {
   "cell_type": "code",
   "execution_count": null,
   "metadata": {},
   "outputs": [],
   "source": []
  }
 ],
 "metadata": {
  "kernelspec": {
   "display_name": "Python 3",
   "language": "python",
   "name": "python3"
  },
  "language_info": {
   "codemirror_mode": {
    "name": "ipython",
    "version": 3
   },
   "file_extension": ".py",
   "mimetype": "text/x-python",
   "name": "python",
   "nbconvert_exporter": "python",
   "pygments_lexer": "ipython3",
   "version": "3.6.8"
  }
 },
 "nbformat": 4,
 "nbformat_minor": 4
}
